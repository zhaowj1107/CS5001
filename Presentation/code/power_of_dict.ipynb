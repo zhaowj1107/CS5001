{
 "cells": [
  {
   "cell_type": "code",
   "execution_count": 1,
   "id": "e381792b-cfb7-42a3-abaa-a9c6b46e9307",
   "metadata": {},
   "outputs": [],
   "source": [
    "import time\n",
    "import matplotlib.pyplot as plt"
   ]
  },
  {
   "cell_type": "markdown",
   "id": "392f07e4-3255-4945-af4a-4c26b71f0261",
   "metadata": {},
   "source": [
    "这是我们展示List和Dict的一个程序\n",
    "Using List and Dictionary to tackle this problem"
   ]
  },
  {
   "cell_type": "code",
   "execution_count": 3,
   "id": "69cecc5f-a74d-44e0-89c8-1d453b92b8c4",
   "metadata": {},
   "outputs": [],
   "source": [
    "def two_sum_list(nums: list, target: int):\n",
    "    for x in range(len(nums)):\n",
    "        remain_list = nums[:x] + nums[x + 1:]\n",
    "        for y in range(len(nums) - 1):\n",
    "            if nums[x] + remain_list[y] == target:\n",
    "                return [nums[x], remain_list[y]]\n",
    "\n",
    "def two_sum_dict(nums: list, target: int):\n",
    "    dict = {}\n",
    "    for index in range(len(nums)):\n",
    "        dict[nums[index]] = index\n",
    "    for number_1_index in range(len(nums)):\n",
    "        remain = target - nums[number_1_index]\n",
    "        if remain in dict and dict[remain] != number_1_index:\n",
    "            return [nums[number_1_index], remain]"
   ]
  },
  {
   "cell_type": "markdown",
   "id": "781ceaae-2a45-4310-9a65-b3da4a4303c0",
   "metadata": {},
   "source": [
    "Creat a list with n number, to test the time complexity\n",
    "\n",
    "list = [1,2,3,4......,1999,2000]\n",
    "\n",
    "target = 1999+2000"
   ]
  },
  {
   "cell_type": "code",
   "execution_count": 4,
   "id": "513b4b97-2449-4e9a-808c-a8f4f8cbe8e1",
   "metadata": {},
   "outputs": [],
   "source": [
    "def create_list(n):\n",
    "    nums = []\n",
    "    for i in range(n):\n",
    "        nums.append(i)\n",
    "    target = nums[-1] + nums[-2]\n",
    "    return nums, target"
   ]
  },
  {
   "cell_type": "markdown",
   "id": "c922f105-0895-4b07-a78a-47837abc5ee0",
   "metadata": {},
   "source": [
    "Sample list to test the time consumed with n = 2000"
   ]
  },
  {
   "cell_type": "code",
   "execution_count": 6,
   "id": "e3a2bb73-aa79-44cf-8120-d39dd891c506",
   "metadata": {},
   "outputs": [
    {
     "name": "stdout",
     "output_type": "stream",
     "text": [
      "run list and dict funtions in 2000 numbers.\n",
      "[1998, 1999]\n",
      "The runtime of recursive fibonacci without memoization : 0.29885983 seconds\n",
      "\n",
      "[1998, 1999]\n",
      "The runtime of recursive fibonacci without memoization : 0.00099874 seconds\n",
      "\n"
     ]
    }
   ],
   "source": [
    "def sample(n):\n",
    "    list_data, target = create_list(n)\n",
    "    print(f\"run list and dict funtions in {n} numbers.\")\n",
    "    start = time.time()\n",
    "    print(two_sum_list(list_data, target))\n",
    "    end = time.time()\n",
    "    time_list = end - start\n",
    "    print(\"The runtime of recursive fibonacci without memoization :\", round(end - start,8), \"seconds\\n\")\n",
    "\n",
    "    start = time.time()\n",
    "    print(two_sum_dict(list_data, target))\n",
    "    end = time.time()\n",
    "    time_dict = end - start\n",
    "    print(\"The runtime of recursive fibonacci without memoization :\", round(end - start,8), \"seconds\\n\")\n",
    "\n",
    "    # diff = time_list/time_dict\n",
    "    # print(f\"{diff} times of time concumsed by list to dict.\")    \n",
    "\n",
    "sample(2000)"
   ]
  },
  {
   "cell_type": "code",
   "execution_count": 12,
   "id": "154a7822-9860-467d-9e38-b8f9c081769c",
   "metadata": {},
   "outputs": [
    {
     "name": "stdout",
     "output_type": "stream",
     "text": [
      "run list and dict funtions in 1000 numbers.\n",
      "The runtime of list : 0.05462837 seconds\n",
      "The runtime of dict : 0.0 seconds\n",
      "\n",
      "run list and dict funtions in 2000 numbers.\n",
      "The runtime of list : 0.20533562 seconds\n",
      "The runtime of dict : 0.0 seconds\n",
      "\n",
      "run list and dict funtions in 3000 numbers.\n",
      "The runtime of list : 0.48066974 seconds\n",
      "The runtime of dict : 0.0 seconds\n",
      "\n",
      "run list and dict funtions in 4000 numbers.\n",
      "The runtime of list : 0.7996304 seconds\n",
      "The runtime of dict : 0.0 seconds\n",
      "\n",
      "run list and dict funtions in 5000 numbers.\n",
      "The runtime of list : 1.31537318 seconds\n",
      "The runtime of dict : 0.0 seconds\n",
      "\n",
      "run list and dict funtions in 6000 numbers.\n",
      "The runtime of list : 2.02150488 seconds\n",
      "The runtime of dict : 0.00092196 seconds\n",
      "\n",
      "run list and dict funtions in 7000 numbers.\n",
      "The runtime of list : 2.69508743 seconds\n",
      "The runtime of dict : 0.00099659 seconds\n",
      "\n",
      "run list and dict funtions in 8000 numbers.\n",
      "The runtime of list : 3.47499228 seconds\n",
      "The runtime of dict : 0.00050902 seconds\n",
      "\n",
      "run list and dict funtions in 9000 numbers.\n",
      "The runtime of list : 4.54260302 seconds\n",
      "The runtime of dict : 0.0009973 seconds\n",
      "\n",
      "run list and dict funtions in 10000 numbers.\n",
      "The runtime of list : 5.39456773 seconds\n",
      "The runtime of dict : 0.00126338 seconds\n",
      "\n",
      "run list and dict funtions in 11000 numbers.\n",
      "The runtime of list : 6.82210374 seconds\n",
      "The runtime of dict : 0.00099349 seconds\n",
      "\n",
      "run list and dict funtions in 12000 numbers.\n",
      "The runtime of list : 8.38444328 seconds\n",
      "The runtime of dict : 0.00121355 seconds\n",
      "\n",
      "run list and dict funtions in 13000 numbers.\n",
      "The runtime of list : 10.17910457 seconds\n",
      "The runtime of dict : 0.00100327 seconds\n",
      "\n",
      "run list and dict funtions in 14000 numbers.\n",
      "The runtime of list : 11.15732336 seconds\n",
      "The runtime of dict : 0.00151157 seconds\n",
      "\n",
      "run list and dict funtions in 15000 numbers.\n",
      "The runtime of list : 12.5301106 seconds\n",
      "The runtime of dict : 0.00199938 seconds\n",
      "\n",
      "run list and dict funtions in 16000 numbers.\n",
      "The runtime of list : 14.24205875 seconds\n",
      "The runtime of dict : 0.00100708 seconds\n",
      "\n",
      "run list and dict funtions in 17000 numbers.\n",
      "The runtime of list : 17.95741963 seconds\n",
      "The runtime of dict : 0.00198913 seconds\n",
      "\n",
      "run list and dict funtions in 18000 numbers.\n",
      "The runtime of list : 19.09927368 seconds\n",
      "The runtime of dict : 0.00408959 seconds\n",
      "\n",
      "run list and dict funtions in 19000 numbers.\n",
      "The runtime of list : 21.13308215 seconds\n",
      "The runtime of dict : 0.00099993 seconds\n",
      "\n"
     ]
    },
    {
     "data": {
      "image/png": "[encoded data removed]",
      "text/plain": [
       "<Figure size 1000x600 with 1 Axes>"
      ]
     },
     "metadata": {},
     "output_type": "display_data"
    }
   ],
   "source": [
    "def main():\n",
    "    sizes = [x for x in range(1000,20000,1000)]\n",
    "    results = {'list': [], 'dict': [], 'sizes': sizes}\n",
    "    \n",
    "    for n in sizes:\n",
    "        print(f\"run list and dict funtions in {n} numbers.\")\n",
    "        list_data, target = create_list(n)\n",
    "        # run the list fnction\n",
    "        start = time.time()\n",
    "        two_sum_list(list_data, target)\n",
    "        end = time.time()\n",
    "        results['list'].append(end - start)\n",
    "        time_list = end - start\n",
    "        print(\"The runtime of list :\", round(end - start,8), \"seconds\")\n",
    "\n",
    "        # run the dict fnction\n",
    "        start = time.time()\n",
    "        two_sum_dict(list_data, target)\n",
    "        end = time.time()\n",
    "        results['dict'].append(end - start)\n",
    "        time_dict = round(end - start,8)\n",
    "        print(\"The runtime of dict :\", round(end - start,8), \"seconds\\n\")\n",
    "\n",
    "        # diff = time_list/time_dict\n",
    "        # print(f\"{diff} times of time concumsed by list to dict.\\n\")   \n",
    "\n",
    "    plt.figure(figsize=(10, 6))\n",
    "    plt.plot(results['sizes'], results['list'], label='List Implementation')\n",
    "    plt.plot(results['sizes'], results['dict'], label='Dict Implementation')\n",
    "    plt.xlabel('Input Size')\n",
    "    plt.ylabel('Time (seconds)')\n",
    "    plt.title('Time Complexity Comparison')\n",
    "    plt.legend()\n",
    "    plt.grid(True)\n",
    "    plt.show()\n",
    "\n",
    "    pass\n",
    "\n",
    "main()"
   ]
  },
  {
   "cell_type": "markdown",
   "id": "ca3841c0-9f7c-4985-9a1d-c8efe167a253",
   "metadata": {},
   "source": [
    "Think about a real-world situation, and there are just everywhere!\n",
    "For example, then you do the shopping, Amazon/Temu provide you a coupon uo to $100 and reduce $60\n",
    "When you have a good with $45, and Amazon/Temu will provide you a bunch of goods with a price above $55.\n",
    "Beside the fron-end, there are millions of good to calculte. It must be dictionary instead of list!"
   ]
  }
 ],
 "metadata": {
  "kernelspec": {
   "display_name": "Python 3 (ipykernel)",
   "language": "python",
   "name": "python3"
  },
  "language_info": {
   "codemirror_mode": {
    "name": "ipython",
    "version": 3
   },
   "file_extension": ".py",
   "mimetype": "text/x-python",
   "name": "python",
   "nbconvert_exporter": "python",
   "pygments_lexer": "ipython3",
   "version": "3.11.5"
  }
 },
 "nbformat": 4,
 "nbformat_minor": 5
}
